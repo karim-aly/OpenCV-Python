{
 "cells": [
  {
   "cell_type": "markdown",
   "metadata": {},
   "source": [
    "# Measuring Performance in IPython\n",
    "---\n",
    "\n",
    "Sometimes you may need to compare the performance of two similar operations. IPython gives you a magic command **`%timeit`** to perform this. It runs the code several times to get more accurate results. Once again, they are suitable to measure single line codes.\n",
    "\n",
    "For example, do you know which of the following addition operation is more better: \n",
    "- `x = 5; y = x**2`\n",
    "- `x = 5; y = x*x` \n",
    "- `x = np.uint8([5]); y = x*x`\n",
    "- `y = np.square(x) ?` \n",
    "\n",
    "We will find it with **`%timeit`** in IPython shell.\n",
    "\n",
    "---"
   ]
  },
  {
   "cell_type": "code",
   "execution_count": 1,
   "metadata": {
    "collapsed": true
   },
   "outputs": [],
   "source": [
    "import cv2 as cv\n",
    "import numpy as np\n"
   ]
  },
  {
   "cell_type": "code",
   "execution_count": 4,
   "metadata": {
    "collapsed": false,
    "scrolled": false
   },
   "outputs": [
    {
     "name": "stdout",
     "output_type": "stream",
     "text": [
      "The slowest run took 8.94 times longer than the fastest. This could mean that an intermediate result is being cached.\n",
      "1000000 loops, best of 3: 287 ns per loop\n",
      "10000000 loops, best of 3: 54.5 ns per loop\n",
      "The slowest run took 72.80 times longer than the fastest. This could mean that an intermediate result is being cached.\n",
      "1000000 loops, best of 3: 493 ns per loop\n",
      "The slowest run took 29.37 times longer than the fastest. This could mean that an intermediate result is being cached.\n",
      "1000000 loops, best of 3: 481 ns per loop\n"
     ]
    }
   ],
   "source": [
    "x = 5\n",
    "\n",
    "%timeit y=x**2\n",
    "\n",
    "%timeit y=x*x\n",
    "\n",
    "z = np.uint8([5])\n",
    "%timeit y=z*z\n",
    "\n",
    "%timeit y=np.square(z)\n"
   ]
  },
  {
   "cell_type": "markdown",
   "metadata": {},
   "source": [
    "---\n",
    "#### Note\n",
    "\n",
    "Python scalar operations are faster than Numpy scalar operations. So for operations including one or two elements, Python scalar is better than Numpy arrays. Numpy takes advantage when size of array is a little bit bigger.\n",
    "\n",
    "---"
   ]
  },
  {
   "cell_type": "markdown",
   "metadata": {},
   "source": [
    "We will try one more example. This time, we will compare the performance of **`cv2.countNonZero()`** and **`np.count_nonzero()`** for same image."
   ]
  },
  {
   "cell_type": "code",
   "execution_count": 5,
   "metadata": {
    "collapsed": false
   },
   "outputs": [
    {
     "name": "stdout",
     "output_type": "stream",
     "text": [
      "The slowest run took 23.75 times longer than the fastest. This could mean that an intermediate result is being cached.\n",
      "100000 loops, best of 3: 11.6 µs per loop\n",
      "1000 loops, best of 3: 382 µs per loop\n"
     ]
    }
   ],
   "source": [
    "# load an image\n",
    "img = cv.imread(\"messi5.jpg\", cv.IMREAD_GRAYSCALE)\n",
    "\n",
    "cv.namedWindow('image', cv.WINDOW_AUTOSIZE)\n",
    "cv.imshow('image', img)\n",
    "cv.waitKey(0)\n",
    "cv.destroyAllWindows()\n",
    "\n",
    "%timeit z = cv.countNonZero(img)\n",
    "\n",
    "%timeit z = np.count_nonzero(img)"
   ]
  },
  {
   "cell_type": "markdown",
   "metadata": {},
   "source": [
    "**Notice:** OpenCV function is nearly 25x faster than Numpy function.\n",
    "\n",
    "##### Note\n",
    "\n",
    "Normally, OpenCV functions are faster than Numpy functions. So for same operation, OpenCV functions are preferred. But, there can be exceptions, especially when Numpy works with views instead of copies.\n",
    "\n",
    "---"
   ]
  }
 ],
 "metadata": {
  "kernelspec": {
   "display_name": "Python 3",
   "language": "python",
   "name": "python3"
  },
  "language_info": {
   "codemirror_mode": {
    "name": "ipython",
    "version": 3
   },
   "file_extension": ".py",
   "mimetype": "text/x-python",
   "name": "python",
   "nbconvert_exporter": "python",
   "pygments_lexer": "ipython3",
   "version": "3.6.0"
  }
 },
 "nbformat": 4,
 "nbformat_minor": 2
}
