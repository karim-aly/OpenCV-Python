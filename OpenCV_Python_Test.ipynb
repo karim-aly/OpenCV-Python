{
 "cells": [
  {
   "cell_type": "markdown",
   "metadata": {},
   "source": [
    "# OpenCV Python Notes\n",
    "---------------------------------\n",
    "\n",
    "This notebook is for taking notes while learning and To be considered as a reference for a quick revision in the future maybe.\n",
    "\n",
    "-------------------"
   ]
  },
  {
   "cell_type": "markdown",
   "metadata": {},
   "source": [
    "# 1) Checking Everything is OK\n",
    "----------------\n",
    "\n",
    "Make sure we can import OpenCV and print the version"
   ]
  },
  {
   "cell_type": "code",
   "execution_count": 1,
   "metadata": {
    "collapsed": false
   },
   "outputs": [
    {
     "name": "stdout",
     "output_type": "stream",
     "text": [
      "OpenCV Version: 3.2.0\n"
     ]
    }
   ],
   "source": [
    "import cv2 as cv\n",
    "from matplotlib import pyplot as plt\n",
    "import numpy as np\n",
    "import time as t\n",
    "\n",
    "%matplotlib inline\n",
    "\n",
    "print(\"OpenCV Version:\", cv.__version__)"
   ]
  },
  {
   "cell_type": "markdown",
   "metadata": {
    "collapsed": true
   },
   "source": [
    "-----------------"
   ]
  },
  {
   "cell_type": "markdown",
   "metadata": {},
   "source": [
    "# Image read and show\n",
    "-------\n",
    "\n",
    "### Read an image\n",
    "Use the function **`cv2.imread()`** to read an image. The image should be in the working directory or a full path of image should be given.\n",
    "\n",
    "Second argument is a flag which specifies the way image should be read.\n",
    "\n",
    "- **`cv2.IMREAD_COLOR`** : Loads a color image. Any transparency of image will be neglected. It is the default flag.\n",
    "- **`cv2.IMREAD_GRAYSCALE`** : Loads image in grayscale mode\n",
    "- **`cv2.IMREAD_UNCHANGED`** : Loads image as such including alpha channel\n",
    "\n",
    "##### Note:\n",
    "Instead of these three flags, you can simply pass integers 1, 0 or -1 respectively."
   ]
  },
  {
   "cell_type": "code",
   "execution_count": 2,
   "metadata": {
    "collapsed": true
   },
   "outputs": [],
   "source": [
    "# Loads a color image. \n",
    "img_orig = cv.imread('lena30.jpg', cv.IMREAD_COLOR)\n",
    "\n",
    "# save image in png format\n",
    "cv.imwrite('image.png', img_orig)\n",
    "\n",
    "# load the saved image in grayscale\n",
    "img = cv.imread('image.png', cv.IMREAD_GRAYSCALE)"
   ]
  },
  {
   "cell_type": "markdown",
   "metadata": {},
   "source": [
    "# Display an image\n",
    "\n",
    "Use the function **`cv2.imshow()`** to display an image in a window. The window automatically fits to the image size.\n",
    "\n",
    "First argument is a window name which is a string. second argument is our image. You can create as many windows as you wish, but with different window names.\n",
    "\n",
    "**`cv2.waitKey()`** is a keyboard binding function. Its argument is the time in milliseconds. The function waits for specified milliseconds for any keyboard event. If you press any key in that time, the program continues. If 0 is passed, it waits indefinitely for a key stroke. It can also be set to detect specific key strokes like, if key a is pressed etc which we will discuss below.\n",
    "\n",
    "**`cv2.destroyAllWindows()`** simply destroys all the windows we created. If you want to destroy any specific window, use the **`function cv2.destroyWindow()`** where you pass the exact window name as the argument.\n",
    "\n",
    "There is a special case where you can already create a window and load image to it later. In that case, you can specify whether window is resizable or not. It is done with the function **`cv2.namedWindow()`**. By default, the flag is **`cv2.WINDOW_AUTOSIZE`**. But if you specify flag to be **`cv2.WINDOW_NORMAL`**, you can resize window. It will be helpful when image is too large in dimension and adding track bar to windows."
   ]
  },
  {
   "cell_type": "code",
   "execution_count": 3,
   "metadata": {
    "collapsed": true
   },
   "outputs": [],
   "source": [
    "# create a window with flag NORMAL to make it resizable\n",
    "cv.namedWindow('Saved as PNG', cv.WINDOW_NORMAL)\n",
    "\n",
    "# show the image in the window\n",
    "# can be called directly and a window is created but with the default flag: flag cv.WINDOW_AUTOSIZE\n",
    "cv.imshow('Saved as PNG', img)\n",
    "\n",
    "# wait until a key is pressed and returns the pressed key\n",
    "# we pass 0 to wait indefinitely and we have no interest in the key pressed\n",
    "cv.waitKey(0)\n",
    "\n",
    "# closes all opened windows\n",
    "cv.destroyAllWindows()"
   ]
  }
 ],
 "metadata": {
  "kernelspec": {
   "display_name": "Python 3",
   "language": "python",
   "name": "python3"
  },
  "language_info": {
   "codemirror_mode": {
    "name": "ipython",
    "version": 3
   },
   "file_extension": ".py",
   "mimetype": "text/x-python",
   "name": "python",
   "nbconvert_exporter": "python",
   "pygments_lexer": "ipython3",
   "version": "3.6.0"
  }
 },
 "nbformat": 4,
 "nbformat_minor": 2
}
